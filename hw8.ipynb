{
 "cells": [
  {
   "cell_type": "markdown",
   "id": "amber-scholar",
   "metadata": {},
   "source": [
    "# hw8\n",
    "---\n",
    "Here we'd like to use a quantum simulator to illustrate that how one could use qubits to check if his communication to others is secure or not. In other words, one could find out if someone else has already intercepted the information before it passing to him.\n"
   ]
  },
  {
   "cell_type": "code",
   "execution_count": 1,
   "id": "biblical-david",
   "metadata": {},
   "outputs": [],
   "source": [
    "import numpy as np\n",
    "from qiskit import QuantumCircuit, transpile, QuantumRegister, ClassicalRegister\n",
    "from qiskit.providers.aer import QasmSimulator\n",
    "from qiskit.visualization import plot_histogram\n",
    "from qiskit import BasicAer, execute\n",
    "from qiskit.visualization import plot_state_city, plot_bloch_multivector\n",
    "from qiskit.visualization import plot_state_paulivec, plot_state_hinton\n",
    "from qiskit.visualization import plot_state_qsphere"
   ]
  },
  {
   "cell_type": "markdown",
   "id": "palestinian-jersey",
   "metadata": {},
   "source": [
    "We assume Alice needs to send a message to Bob and the qubit is at $ |+\\rangle $ in X basis. Then if Bob measures it also in X basis, he will get zero."
   ]
  },
  {
   "cell_type": "code",
   "execution_count": 2,
   "id": "heard-circular",
   "metadata": {},
   "outputs": [
    {
     "data": {
      "text/html": [
       "<pre style=\"word-wrap: normal;white-space: pre;background: #fff0;line-height: 1.1;font-family: &quot;Courier New&quot;,Courier,monospace\">      ┌───┐ ░ ┌───┐┌─┐\n",
       "q0_0: ┤ H ├─░─┤ H ├┤M├\n",
       "      └───┘ ░ └───┘└╥┘\n",
       "c0: 1/══════════════╩═\n",
       "                    0 </pre>"
      ],
      "text/plain": [
       "      ┌───┐ ░ ┌───┐┌─┐\n",
       "q0_0: ┤ H ├─░─┤ H ├┤M├\n",
       "      └───┘ ░ └───┘└╥┘\n",
       "c0: 1/══════════════╩═\n",
       "                    0 "
      ]
     },
     "metadata": {},
     "output_type": "display_data"
    }
   ],
   "source": [
    "# define a quantum circuit\n",
    "q = QuantumCircuit(QuantumRegister(1),ClassicalRegister(1))\n",
    "\n",
    "# Alice sends the message \n",
    "q.h(0)\n",
    "q.barrier()\n",
    "\n",
    "# Bob receives and measures it\n",
    "q.h(0)\n",
    "q.measure(0,0)\n",
    "\n",
    "# Draw the circuit\n",
    "display(q.draw())\n"
   ]
  },
  {
   "cell_type": "markdown",
   "id": "fourth-seeking",
   "metadata": {},
   "source": [
    "To testify the result, we use Aer simulator in qiskit to simulate the case."
   ]
  },
  {
   "cell_type": "code",
   "execution_count": 3,
   "id": "private-enforcement",
   "metadata": {},
   "outputs": [
    {
     "name": "stdout",
     "output_type": "stream",
     "text": [
      "\n",
      "Total count for 0 and 1 are: {'0': 10000}\n"
     ]
    },
    {
     "data": {
      "image/png": "[encoded data removed]",
      "text/plain": [
       "<Figure size 504x360 with 1 Axes>"
      ]
     },
     "execution_count": 3,
     "metadata": {},
     "output_type": "execute_result"
    }
   ],
   "source": [
    "nshots = 10000\n",
    "\n",
    "# use Aer's simulator to transpile\n",
    "simulator = QasmSimulator()\n",
    "compiled_circuit = transpile(q, simulator)\n",
    "result = simulator.run(compiled_circuit, shots=nshots).result()\n",
    "\n",
    "# Returns counts\n",
    "counts = result.get_counts(q)\n",
    "print(\"\\nTotal count for 0 and 1 are:\",counts)\n",
    "plot_histogram(result.get_counts())\n"
   ]
  },
  {
   "cell_type": "markdown",
   "id": "italic-tablet",
   "metadata": {},
   "source": [
    "Not surprisingly, Bob always receives a qubit at zero state. However, once a third party Eve trys to eavesdrop such messages, he will measure the qubit before it reaches to Bob, which results in an uncertainty for Bob's measurement result."
   ]
  },
  {
   "cell_type": "code",
   "execution_count": 4,
   "id": "fantastic-kansas",
   "metadata": {},
   "outputs": [
    {
     "data": {
      "text/html": [
       "<pre style=\"word-wrap: normal;white-space: pre;background: #fff0;line-height: 1.1;font-family: &quot;Courier New&quot;,Courier,monospace\">       ┌───┐┌─┐ ░ ┌───┐┌─┐\n",
       "q12_0: ┤ H ├┤M├─░─┤ H ├┤M├\n",
       "       └───┘└╥┘ ░ └───┘└╥┘\n",
       " c1: 1/══════╩══════════╩═\n",
       "             0          0 </pre>"
      ],
      "text/plain": [
       "       ┌───┐┌─┐ ░ ┌───┐┌─┐\n",
       "q12_0: ┤ H ├┤M├─░─┤ H ├┤M├\n",
       "       └───┘└╥┘ ░ └───┘└╥┘\n",
       " c1: 1/══════╩══════════╩═\n",
       "             0          0 "
      ]
     },
     "metadata": {},
     "output_type": "display_data"
    }
   ],
   "source": [
    "\n",
    "# Alice sends the message \n",
    "q = QuantumCircuit(QuantumRegister(1),ClassicalRegister(1))\n",
    "q.h(0)\n",
    "\n",
    "# Eve measures it and then passes it to Bob\n",
    "q.measure(0,0)\n",
    "q.barrier()\n",
    "\n",
    "# Bob receives and measures it\n",
    "q.h(0)\n",
    "q.measure(0,0)\n",
    "\n",
    "# Draw the circuit\n",
    "display(q.draw())"
   ]
  },
  {
   "cell_type": "code",
   "execution_count": 11,
   "id": "homeless-hamburg",
   "metadata": {},
   "outputs": [
    {
     "name": "stdout",
     "output_type": "stream",
     "text": [
      "\n",
      "Total count for 0 and 1 are: {'0': 5005, '1': 4995}\n"
     ]
    },
    {
     "data": {
      "image/png": "[encoded data removed]",
      "text/plain": [
       "<Figure size 504x360 with 1 Axes>"
      ]
     },
     "execution_count": 11,
     "metadata": {},
     "output_type": "execute_result"
    }
   ],
   "source": [
    "# use Aer's simulator to transpile\n",
    "simulator = QasmSimulator()\n",
    "compiled_circuit = transpile(q, simulator)\n",
    "result = simulator.run(compiled_circuit, shots=nshots).result()\n",
    "\n",
    "# Returns counts\n",
    "counts = result.get_counts(q)\n",
    "print(\"\\nTotal count for 0 and 1 are:\",counts)\n",
    "plot_histogram(result.get_counts())\n"
   ]
  },
  {
   "cell_type": "markdown",
   "id": "married-authentication",
   "metadata": {},
   "source": [
    "As we could see, Bob can no longer measure a certain value on X basis but a superposition of states (0.5 of probability for each state). Repeating above processes Bob could find out the conversation is being eavesdropped."
   ]
  },
  {
   "cell_type": "markdown",
   "id": "excited-fitting",
   "metadata": {},
   "source": [
    "---\n",
    "This seems a very straightforward example with few gates operation and qubits being used. To further utilize this awesome simulator, we implement it on a quantum teleportation case.  \n",
    "Let's say, Alice wants to transfer some information to Bob via qubits. Based on [no-cloning theorem](https://en.wikipedia.org/wiki/No-cloning_theorem)  in a quantum system, such tranfering process could be done by a entangled qubit pair and classical bits instead of directly copying the original qubit state. Thus, a third party Eve (friendly in this case) is needed to generate a Bell pair for Bob and Alice."
   ]
  },
  {
   "cell_type": "code",
   "execution_count": null,
   "id": "lightweight-genius",
   "metadata": {},
   "outputs": [],
   "source": []
  },
  {
   "cell_type": "code",
   "execution_count": 28,
   "id": "similar-serum",
   "metadata": {},
   "outputs": [
    {
     "data": {
      "text/html": [
       "<pre style=\"word-wrap: normal;white-space: pre;background: #fff0;line-height: 1.1;font-family: &quot;Courier New&quot;,Courier,monospace\">             ┌────────────────┐ ░            ░      ┌───┐ ░ ┌─┐          »\n",
       "q364_0: ─|0>─┤ U(π/4,π/2,π/2) ├─░────────────░───■──┤ H ├─░─┤M├──────────»\n",
       "             └────────────────┘ ░ ┌───┐      ░ ┌─┴─┐└───┘ ░ └╥┘┌─┐       »\n",
       "q364_1: ─|0>────────────────────░─┤ H ├──■───░─┤ X ├──────░──╫─┤M├───────»\n",
       "                                ░ └───┘┌─┴─┐ ░ └───┘      ░  ║ └╥┘ ┌───┐ »\n",
       "q364_2: ─|0>────────────────────░──────┤ X ├─░────────────░──╫──╫──┤ X ├─»\n",
       "                                ░      └───┘ ░            ░  ║  ║  └─╥─┘ »\n",
       " c19: 1/═════════════════════════════════════════════════════╩══╬════╬═══»\n",
       "                                                             0  ║ ┌──╨──┐»\n",
       " c20: 1/════════════════════════════════════════════════════════╩═╡ = 1 ╞»\n",
       "                                                                0 └─────┘»\n",
       " c21: 1/═════════════════════════════════════════════════════════════════»\n",
       "                                                                         »\n",
       "«                  \n",
       "«q364_0: ──────────\n",
       "«                  \n",
       "«q364_1: ──────────\n",
       "«         ┌───┐ ┌─┐\n",
       "«q364_2: ─┤ Z ├─┤M├\n",
       "«         └─╥─┘ └╥┘\n",
       "«        ┌──╨──┐ ║ \n",
       "« c19: 1/╡ = 1 ╞═╬═\n",
       "«        └─────┘ ║ \n",
       "« c20: 1/════════╬═\n",
       "«                ║ \n",
       "« c21: 1/════════╩═\n",
       "«                0 </pre>"
      ],
      "text/plain": [
       "             ┌────────────────┐ ░            ░      ┌───┐ ░ ┌─┐          »\n",
       "q364_0: ─|0>─┤ U(π/4,π/2,π/2) ├─░────────────░───■──┤ H ├─░─┤M├──────────»\n",
       "             └────────────────┘ ░ ┌───┐      ░ ┌─┴─┐└───┘ ░ └╥┘┌─┐       »\n",
       "q364_1: ─|0>────────────────────░─┤ H ├──■───░─┤ X ├──────░──╫─┤M├───────»\n",
       "                                ░ └───┘┌─┴─┐ ░ └───┘      ░  ║ └╥┘ ┌───┐ »\n",
       "q364_2: ─|0>────────────────────░──────┤ X ├─░────────────░──╫──╫──┤ X ├─»\n",
       "                                ░      └───┘ ░            ░  ║  ║  └─╥─┘ »\n",
       " c19: 1/═════════════════════════════════════════════════════╩══╬════╬═══»\n",
       "                                                             0  ║ ┌──╨──┐»\n",
       " c20: 1/════════════════════════════════════════════════════════╩═╡ = 1 ╞»\n",
       "                                                                0 └─────┘»\n",
       " c21: 1/═════════════════════════════════════════════════════════════════»\n",
       "                                                                         »\n",
       "«                  \n",
       "«q364_0: ──────────\n",
       "«                  \n",
       "«q364_1: ──────────\n",
       "«         ┌───┐ ┌─┐\n",
       "«q364_2: ─┤ Z ├─┤M├\n",
       "«         └─╥─┘ └╥┘\n",
       "«        ┌──╨──┐ ║ \n",
       "« c19: 1/╡ = 1 ╞═╬═\n",
       "«        └─────┘ ║ \n",
       "« c20: 1/════════╬═\n",
       "«                ║ \n",
       "« c21: 1/════════╩═\n",
       "«                0 "
      ]
     },
     "execution_count": 28,
     "metadata": {},
     "output_type": "execute_result"
    }
   ],
   "source": [
    "# create qubits and classical bits\n",
    "qr = QuantumRegister(3)    \n",
    "'''\n",
    "qubit 0 -> the qubit Alice sends to Bob\n",
    "qubit 1 -> the qubit Alice owns\n",
    "qubit 1 -> the qubit Bob owns\n",
    "'''\n",
    "cr1 = ClassicalRegister(1)\n",
    "cr2 = ClassicalRegister(1)\n",
    "cr3 = ClassicalRegister(1)\n",
    "\n",
    "qc = QuantumCircuit(qr,cr1,cr2,cr3)\n",
    "\n",
    "# reset all qubits\n",
    "qc.reset(0)\n",
    "qc.reset(1)\n",
    "qc.reset(2)\n",
    "\n",
    "# generate a random initial state\n",
    "qc.u(np.pi/4,np.pi/2,np.pi/2,0)\n",
    "qc.barrier()\n",
    "\n",
    "# create a bell pair\n",
    "qc.h(1)\n",
    "qc.cx(1,2)\n",
    "qc.barrier()\n",
    "\n",
    "# prepare the qubit Alice sends to Bob\n",
    "qc.cx(0,1)\n",
    "qc.h(0)\n",
    "qc.barrier()\n",
    "\n",
    "# store measurements info into classical bits\n",
    "qc.measure(0,0)\n",
    "qc.measure(1,1)\n",
    "\n",
    "# operate the qubic Bob owns based on classical bits\n",
    "qc.x(2).c_if(cr2,1)\n",
    "qc.z(2).c_if(cr1,1)\n",
    "qc.measure(2,2)\n",
    "\n",
    "qc.draw()"
   ]
  },
  {
   "cell_type": "code",
   "execution_count": 36,
   "id": "global-vietnamese",
   "metadata": {},
   "outputs": [
    {
     "name": "stdout",
     "output_type": "stream",
     "text": [
      "\n",
      "Total count for 0 and 1 are: {'0 0 1': 2135, '1 0 1': 387, '0 1 0': 2158, '1 1 1': 382, '0 0 0': 2105, '0 1 1': 2099, '1 1 0': 374, '1 0 0': 360}\n"
     ]
    },
    {
     "data": {
      "image/png": "[encoded data removed]",
      "text/plain": [
       "<Figure size 504x360 with 1 Axes>"
      ]
     },
     "execution_count": 36,
     "metadata": {},
     "output_type": "execute_result"
    }
   ],
   "source": [
    "# use Aer's simulator to transpile\n",
    "compiled_telecircuit = transpile(qc, simulator)\n",
    "tele_result = simulator.run(compiled_telecircuit, shots=nshots).result()\n",
    "\n",
    "# Returns counts\n",
    "tele_counts = tele_result.get_counts(qc)\n",
    "print(\"\\nTotal count for 0 and 1 are:\",tele_counts)\n",
    "plot_histogram(tele_result.get_counts())\n"
   ]
  },
  {
   "cell_type": "markdown",
   "id": "material-objective",
   "metadata": {},
   "source": [
    "If we sum up the first and last four bars, which represents total probability for $ |0\\rangle $ and $ |1\\rangle $ and they're close to **0.85** and **0.15**, respectively. So we design a test circuit to quickly check if that's what Alice was trying to send."
   ]
  },
  {
   "cell_type": "code",
   "execution_count": 51,
   "id": "static-singapore",
   "metadata": {},
   "outputs": [
    {
     "data": {
      "image/png": "[encoded data removed]",
      "text/plain": [
       "<Figure size 504x360 with 1 Axes>"
      ]
     },
     "execution_count": 51,
     "metadata": {},
     "output_type": "execute_result"
    }
   ],
   "source": [
    "# we check if it's the correct message the ALice wants to send\n",
    "qtest = QuantumCircuit(QuantumRegister(1),ClassicalRegister(1))\n",
    "qtest.u(np.pi/4,np.pi/2,np.pi/2,0)\n",
    "qtest.measure(0,0)\n",
    "qtest.draw()\n",
    "compiled_test = transpile(qtest, simulator)\n",
    "test_result = simulator.run(compiled_test, shots=nshots).result()\n",
    "\n",
    "# Returns counts\n",
    "test_counts = test_result.get_counts(qtest)\n",
    "plot_histogram(test_result.get_counts())\n"
   ]
  },
  {
   "cell_type": "markdown",
   "id": "artificial-danger",
   "metadata": {},
   "source": [
    "It seems to work pretty well. And it is also true if we replace the initial state by any other state."
   ]
  },
  {
   "cell_type": "markdown",
   "id": "fallen-march",
   "metadata": {},
   "source": [
    "---\n",
    "We can also operate such experiments/ simulations on real quantum device, with the help of [IBM quantum computer](https://quantum-computing.ibm.com/composer), all above operations could be done on real qubits."
   ]
  },
  {
   "cell_type": "markdown",
   "id": "tender-damage",
   "metadata": {},
   "source": [
    "## Reference\n",
    "https://qiskit.org/textbook/ch-algorithms/teleportation.html\n"
   ]
  },
  {
   "cell_type": "code",
   "execution_count": null,
   "id": "early-castle",
   "metadata": {},
   "outputs": [],
   "source": []
  }
 ],
 "metadata": {
  "kernelspec": {
   "display_name": "Python 3",
   "language": "python",
   "name": "python3"
  },
  "language_info": {
   "codemirror_mode": {
    "name": "ipython",
    "version": 3
   },
   "file_extension": ".py",
   "mimetype": "text/x-python",
   "name": "python",
   "nbconvert_exporter": "python",
   "pygments_lexer": "ipython3",
   "version": "3.8.5"
  }
 },
 "nbformat": 4,
 "nbformat_minor": 5
}
