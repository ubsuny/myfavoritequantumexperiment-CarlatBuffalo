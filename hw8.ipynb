{
 "cells": [
  {
   "cell_type": "markdown",
   "id": "auburn-outreach",
   "metadata": {},
   "source": [
    "# hw8\n",
    "---\n",
    "We'd like to simulate the quantum key distribution. We first import packages and discuss a very simple case."
   ]
  },
  {
   "cell_type": "code",
   "execution_count": 7,
   "id": "medieval-general",
   "metadata": {},
   "outputs": [],
   "source": [
    "import numpy as np\n",
    "from qiskit import QuantumCircuit, transpile, QuantumRegister, ClassicalRegister\n",
    "from qiskit.providers.aer import QasmSimulator\n",
    "from qiskit.visualization import plot_histogram\n",
    "from qiskit import BasicAer, execute\n",
    "from qiskit.visualization import plot_state_city, plot_bloch_multivector\n",
    "from qiskit.visualization import plot_state_paulivec, plot_state_hinton\n",
    "from qiskit.visualization import plot_state_qsphere"
   ]
  },
  {
   "cell_type": "markdown",
   "id": "deluxe-throw",
   "metadata": {},
   "source": [
    "We assume Alice needs to send a message to Bob and it's $ |+\\rangle $ in x basis. Then if Bob measures it also in x basis, he will get zero."
   ]
  },
  {
   "cell_type": "code",
   "execution_count": 22,
   "id": "thrown-partition",
   "metadata": {},
   "outputs": [
    {
     "data": {
      "text/html": [
       "<pre style=\"word-wrap: normal;white-space: pre;background: #fff0;line-height: 1.1;font-family: &quot;Courier New&quot;,Courier,monospace\">       ┌───┐ ░ ┌───┐┌─┐\n",
       "q33_0: ┤ H ├─░─┤ H ├┤M├\n",
       "       └───┘ ░ └───┘└╥┘\n",
       "c12: 1/══════════════╩═\n",
       "                     0 </pre>"
      ],
      "text/plain": [
       "       ┌───┐ ░ ┌───┐┌─┐\n",
       "q33_0: ┤ H ├─░─┤ H ├┤M├\n",
       "       └───┘ ░ └───┘└╥┘\n",
       "c12: 1/══════════════╩═\n",
       "                     0 "
      ]
     },
     "metadata": {},
     "output_type": "display_data"
    }
   ],
   "source": [
    "# define a quantum circuit\n",
    "q = QuantumCircuit(QuantumRegister(1),ClassicalRegister(1))\n",
    "\n",
    "# Alice sends the message \n",
    "q.h(0)\n",
    "q.barrier()\n",
    "\n",
    "# Bob receives and measures it\n",
    "q.h(0)\n",
    "q.measure(0,0)\n",
    "\n",
    "# Draw the circuit\n",
    "display(q.draw())\n"
   ]
  },
  {
   "cell_type": "code",
   "execution_count": 25,
   "id": "religious-commodity",
   "metadata": {},
   "outputs": [
    {
     "name": "stdout",
     "output_type": "stream",
     "text": [
      "\n",
      "Total count for 00 and 11 are: {'0': 100}\n"
     ]
    },
    {
     "data": {
      "image/png": "[encoded data removed]",
      "text/plain": [
       "<Figure size 504x360 with 1 Axes>"
      ]
     },
     "execution_count": 25,
     "metadata": {},
     "output_type": "execute_result"
    }
   ],
   "source": [
    "nshots = 100\n",
    "\n",
    "# use Aer's simulator to transpile\n",
    "simulator = QasmSimulator()\n",
    "compiled_circuit = transpile(q, simulator)\n",
    "result = simulator.run(compiled_circuit, shots=nshots).result()\n",
    "\n",
    "# Returns counts\n",
    "counts = result.get_counts(q)\n",
    "print(\"\\nTotal count for 00 and 11 are:\",counts)\n",
    "plot_histogram(result.get_counts())\n"
   ]
  },
  {
   "cell_type": "markdown",
   "id": "annoying-international",
   "metadata": {},
   "source": [
    "Not surprisingly, Bob gets a zero. However, once a third party Eve trys to eavesdrop such messages, he will measure the qubit before it reaches Bob, which results in an uncertainty for Bob's measurement result."
   ]
  },
  {
   "cell_type": "code",
   "execution_count": 32,
   "id": "static-usage",
   "metadata": {},
   "outputs": [
    {
     "data": {
      "text/html": [
       "<pre style=\"word-wrap: normal;white-space: pre;background: #fff0;line-height: 1.1;font-family: &quot;Courier New&quot;,Courier,monospace\">       ┌───┐┌─┐ ░ ┌───┐┌─┐\n",
       "q67_0: ┤ H ├┤M├─░─┤ H ├┤M├\n",
       "       └───┘└╥┘ ░ └───┘└╥┘\n",
       "c13: 1/══════╩══════════╩═\n",
       "             0          0 </pre>"
      ],
      "text/plain": [
       "       ┌───┐┌─┐ ░ ┌───┐┌─┐\n",
       "q67_0: ┤ H ├┤M├─░─┤ H ├┤M├\n",
       "       └───┘└╥┘ ░ └───┘└╥┘\n",
       "c13: 1/══════╩══════════╩═\n",
       "             0          0 "
      ]
     },
     "metadata": {},
     "output_type": "display_data"
    }
   ],
   "source": [
    "\n",
    "# Alice sends the message \n",
    "q = QuantumCircuit(QuantumRegister(1),ClassicalRegister(1))\n",
    "q.h(0)\n",
    "\n",
    "# Eve measures it and then passes it to Bob\n",
    "q.measure(0,0)\n",
    "q.barrier()\n",
    "\n",
    "# Bob receives and measures it\n",
    "q.h(0)\n",
    "q.measure(0,0)\n",
    "\n",
    "# Draw the circuit\n",
    "display(q.draw())"
   ]
  },
  {
   "cell_type": "code",
   "execution_count": 37,
   "id": "decimal-tackle",
   "metadata": {},
   "outputs": [
    {
     "name": "stdout",
     "output_type": "stream",
     "text": [
      "\n",
      "Total count for 00 and 11 are: {'1': 53, '0': 47}\n"
     ]
    },
    {
     "data": {
      "image/png": "[encoded data removed]",
      "text/plain": [
       "<Figure size 504x360 with 1 Axes>"
      ]
     },
     "execution_count": 37,
     "metadata": {},
     "output_type": "execute_result"
    }
   ],
   "source": [
    "# use Aer's simulator to transpile\n",
    "simulator = QasmSimulator()\n",
    "compiled_circuit = transpile(q, simulator)\n",
    "result = simulator.run(compiled_circuit, shots=nshots).result()\n",
    "\n",
    "# Returns counts\n",
    "counts = result.get_counts(q)\n",
    "print(\"\\nTotal count for 00 and 11 are:\",counts)\n",
    "plot_histogram(result.get_counts())\n"
   ]
  },
  {
   "cell_type": "markdown",
   "id": "official-reviewer",
   "metadata": {},
   "source": [
    "As we could see, Bob can no longer measure a certain value on X basis. Repeating above processes Bob could find out the conversation is being eavesdropping."
   ]
  },
  {
   "cell_type": "code",
   "execution_count": null,
   "id": "south-phase",
   "metadata": {},
   "outputs": [],
   "source": []
  }
 ],
 "metadata": {
  "kernelspec": {
   "display_name": "Python 3",
   "language": "python",
   "name": "python3"
  },
  "language_info": {
   "codemirror_mode": {
    "name": "ipython",
    "version": 3
   },
   "file_extension": ".py",
   "mimetype": "text/x-python",
   "name": "python",
   "nbconvert_exporter": "python",
   "pygments_lexer": "ipython3",
   "version": "3.8.5"
  }
 },
 "nbformat": 4,
 "nbformat_minor": 5
}
